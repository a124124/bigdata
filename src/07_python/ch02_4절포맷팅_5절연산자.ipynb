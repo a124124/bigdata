{
 "cells": [
  {
   "cell_type": "markdown",
   "id": "13d71c83",
   "metadata": {},
   "source": [
    "<b><font size='6' color='red'>ch02. 자료형과 연산자</b>"
   ]
  },
  {
   "cell_type": "markdown",
   "id": "48628f3f",
   "metadata": {},
   "source": [
    "# 4절. 포맷팅\n",
    "* 포맷팅이란, 출력할 문자, 숫자, 날짜 데이터의 형식을 지정하는 것.\n",
    "* 변수와 텍스트를 결합해서 보기좋은 형식의 새로운 텍스트를 만들 때 사용"
   ]
  },
  {
   "cell_type": "markdown",
   "id": "a12298bb",
   "metadata": {},
   "source": [
    "## 4.1 문자열에 형식 지정"
   ]
  },
  {
   "cell_type": "code",
   "execution_count": 8,
   "id": "32966286",
   "metadata": {
    "ExecuteTime": {
     "end_time": "2021-07-19T08:21:19.376639Z",
     "start_time": "2021-07-19T08:21:19.359658Z"
    }
   },
   "outputs": [
    {
     "name": "stdout",
     "output_type": "stream",
     "text": [
      "홍길동 님의 30 살입니다\n"
     ]
    }
   ],
   "source": [
    "name = '홍길동'\n",
    "age = 30\n",
    "print(name,'님의', age,'살입니다')"
   ]
  },
  {
   "cell_type": "code",
   "execution_count": 11,
   "id": "8c9f0078",
   "metadata": {
    "ExecuteTime": {
     "end_time": "2021-07-19T08:22:28.478816Z",
     "start_time": "2021-07-19T08:22:28.463857Z"
    }
   },
   "outputs": [
    {
     "name": "stdout",
     "output_type": "stream",
     "text": [
      "홍길동님의 나이는 30살 입니다\n"
     ]
    }
   ],
   "source": [
    "# 이전 스타일\n",
    "# %s 문자, %d 숫자 %f 실수 %x 16진수\n",
    "print('%s님의 나이는 %d살 입니다'% (name,age))"
   ]
  },
  {
   "cell_type": "code",
   "execution_count": 14,
   "id": "f535bafc",
   "metadata": {
    "ExecuteTime": {
     "end_time": "2021-07-19T08:38:23.200030Z",
     "start_time": "2021-07-19T08:38:23.192051Z"
    }
   },
   "outputs": [
    {
     "data": {
      "text/plain": [
       "'홍길동님의 나이는 30살 입니다'"
      ]
     },
     "execution_count": 14,
     "metadata": {},
     "output_type": "execute_result"
    }
   ],
   "source": [
    "#새로운 스타일\n",
    "\n",
    "\"{0}님의 나이는 {1}살 입니다\".format(name,age)"
   ]
  },
  {
   "cell_type": "code",
   "execution_count": 18,
   "id": "ee366162",
   "metadata": {
    "ExecuteTime": {
     "end_time": "2021-07-19T08:38:57.007096Z",
     "start_time": "2021-07-19T08:38:57.000093Z"
    }
   },
   "outputs": [
    {
     "data": {
      "text/plain": [
       "'30님의 나이는 홍길동살 입니다'"
      ]
     },
     "execution_count": 18,
     "metadata": {},
     "output_type": "execute_result"
    }
   ],
   "source": [
    "\"{0}님의 나이는 {1}살 입니다\" .format(age,name)"
   ]
  },
  {
   "cell_type": "markdown",
   "id": "06b0ce60",
   "metadata": {},
   "source": [
    "## 4.2 format() 함수 문법"
   ]
  },
  {
   "cell_type": "code",
   "execution_count": null,
   "id": "cacd1d09",
   "metadata": {
    "ExecuteTime": {
     "end_time": "2021-07-19T08:44:28.491948Z",
     "start_time": "2021-07-19T08:44:28.479949Z"
    }
   },
   "outputs": [],
   "source": [
    "# \"{[인덱스]:[공백대체문자][정렬방법][자리수][타입]}\".format(변수명..)\n",
    "#                                            타입의 종류들 : d(10진수),o(8진수),x(16진수),f(실수),s(문자)"
   ]
  },
  {
   "cell_type": "code",
   "execution_count": 25,
   "id": "d9cbbe2e",
   "metadata": {
    "ExecuteTime": {
     "end_time": "2021-07-19T08:47:31.778509Z",
     "start_time": "2021-07-19T08:47:31.761488Z"
    }
   },
   "outputs": [],
   "source": [
    "# 인덱스 : format 함수 안의 순서\n",
    "# 정렬 방법 :   < 왼쪽, > 오른쪽, ^ 중앙, \n",
    "# 자리수 : 출력할 자릿수 지정, 변수보다 작은 자리수가 지정되면 자리수 무시 \n",
    "# 타입 : d(10진수정수), o(8진수), b(3진수), f(실수), s(문자), x(16진수)"
   ]
  },
  {
   "cell_type": "code",
   "execution_count": 48,
   "id": "0577f049",
   "metadata": {
    "ExecuteTime": {
     "end_time": "2021-07-19T08:58:18.288904Z",
     "start_time": "2021-07-19T08:58:13.137353Z"
    }
   },
   "outputs": [
    {
     "name": "stdout",
     "output_type": "stream",
     "text": [
      "이름은?1\n",
      "나이는?1\n",
      "1살 1님은 1살이 참 좋은 나이라는 걸 알려나\n"
     ]
    }
   ],
   "source": [
    "name = input('이름은?')\n",
    "age = int(input('나이는?'))\n",
    "print('{1}살 {0}님은 {1}살이 참 좋은 나이라는 걸 알려나'.format(name,age))"
   ]
  },
  {
   "cell_type": "code",
   "execution_count": 50,
   "id": "3626b0e2",
   "metadata": {
    "ExecuteTime": {
     "end_time": "2021-07-19T08:58:25.915323Z",
     "start_time": "2021-07-19T08:58:25.897368Z"
    }
   },
   "outputs": [
    {
     "name": "stdout",
     "output_type": "stream",
     "text": [
      "출력 : [12345],[     12345],[12345]\n",
      "출력 : [hello],[hello     ],[hello]\n"
     ]
    }
   ],
   "source": [
    "# 숫자의 경우 출력할 변수보다 큰 자릿수를 지정하면 오른쪽 정렬(디폴트)\n",
    "# 문자의 경우 출력할 변수보다 큰 자리수를 지정하면 왼쪽 정렬(디폴트)\n",
    "# 변수보다 작은 자리수를 지정하면 자리수 지정 무시되고 전부 출력\n",
    "\n",
    "a = 12345\n",
    "s = 'hello'\n",
    "print('출력 : [{}],[{:10}],[{:3}]'.format(a,a,a))\n",
    "print('출력 : [{}],[{:10}],[{:3}]'.format(s,s,s)) "
   ]
  },
  {
   "cell_type": "code",
   "execution_count": 52,
   "id": "b208e1a4",
   "metadata": {
    "ExecuteTime": {
     "end_time": "2021-07-19T08:59:37.817122Z",
     "start_time": "2021-07-19T08:59:37.810140Z"
    }
   },
   "outputs": [
    {
     "name": "stdout",
     "output_type": "stream",
     "text": [
      "출력 : [a     ],[    20],[  3   ]\n"
     ]
    }
   ],
   "source": [
    "# 정렬 방법 > < ^\n",
    "\n",
    "a, b, c = 10, 20, 3\n",
    "\n",
    "print('출력 : [{:<6x}],[{:>6d}],[{:^6o}]'.format(a,b,c))\n"
   ]
  },
  {
   "cell_type": "code",
   "execution_count": 54,
   "id": "f448d61f",
   "metadata": {
    "ExecuteTime": {
     "end_time": "2021-07-19T09:03:13.553131Z",
     "start_time": "2021-07-19T09:03:13.537176Z"
    }
   },
   "outputs": [
    {
     "name": "stdout",
     "output_type": "stream",
     "text": [
      "출력 : [$$$$$$$$10],[hello***************],[hel_______]\n"
     ]
    }
   ],
   "source": [
    "# '인덱스 : 공백대체문자 정렬방법 자릿수 타입'.format()\n",
    "a = 10\n",
    "s = 'hello'\n",
    "print('출력 : [{0:$>10}],[{1:*<20}],[{1:_<10.3}]'.format(a,s))\n",
    "# 10.3 전체 10자리 확보 변수중 3자리만 출력"
   ]
  },
  {
   "cell_type": "code",
   "execution_count": 55,
   "id": "c604c27e",
   "metadata": {
    "ExecuteTime": {
     "end_time": "2021-07-19T09:07:01.356447Z",
     "start_time": "2021-07-19T09:07:01.338515Z"
    }
   },
   "outputs": [
    {
     "name": "stdout",
     "output_type": "stream",
     "text": [
      "$$$$10$$$$ / ***************hello\n"
     ]
    }
   ],
   "source": [
    "# 공백 대체문자를 지정할 때는 반드시 정렬 방법을 표현해야한다 (주의)\n",
    "print('{:$^10} / {:*>20}'.format(a,s))"
   ]
  },
  {
   "cell_type": "code",
   "execution_count": 60,
   "id": "190fab74",
   "metadata": {
    "ExecuteTime": {
     "end_time": "2021-07-19T09:14:37.596406Z",
     "start_time": "2021-07-19T09:14:37.586432Z"
    }
   },
   "outputs": [
    {
     "name": "stdout",
     "output_type": "stream",
     "text": [
      "출력 [      -123],[      +123],[       123]\n",
      "출력 [-      123],[       123],[       123]\n",
      "출력 [      -123],[+      123],[       123]\n",
      "출력 [      -123],[      +123],[+000000123]\n"
     ]
    }
   ],
   "source": [
    "# 자리수 앞에 + 를 붙이면 양수인 경우도 부호를 붙여줌\n",
    "# 공백 대체 문자는 =앞에\n",
    "#공백 대체문자와 자릿수 앞의 0을 모두 쓰면 자리수 앞의 0은 무시\n",
    "\n",
    "\n",
    "a , b = 123, -123\n",
    "\n",
    "print('출력 [{:+10}],[{:+10}],[{:10}]'.format(b,a,a))\n",
    "print('출력 [{:=10}],[{:=10}],[{:10}]'.format(b,a,a))\n",
    "print('출력 [{:+10}],[{:=+10}],[{:10}]'.format(b,a,a))\n",
    "print('출력 [{:+10}],[{:+10}],[{:=+010}]'.format(b,a,a))"
   ]
  },
  {
   "cell_type": "code",
   "execution_count": null,
   "id": "351e6824",
   "metadata": {},
   "outputs": [],
   "source": []
  },
  {
   "cell_type": "code",
   "execution_count": null,
   "id": "e8588705",
   "metadata": {},
   "outputs": [],
   "source": []
  },
  {
   "cell_type": "code",
   "execution_count": null,
   "id": "c19a0536",
   "metadata": {},
   "outputs": [],
   "source": []
  },
  {
   "cell_type": "code",
   "execution_count": null,
   "id": "c8cc55e5",
   "metadata": {},
   "outputs": [],
   "source": []
  },
  {
   "cell_type": "code",
   "execution_count": null,
   "id": "75f5cb28",
   "metadata": {},
   "outputs": [],
   "source": []
  }
 ],
 "metadata": {
  "kernelspec": {
   "display_name": "Python 3",
   "language": "python",
   "name": "python3"
  },
  "language_info": {
   "codemirror_mode": {
    "name": "ipython",
    "version": 3
   },
   "file_extension": ".py",
   "mimetype": "text/x-python",
   "name": "python",
   "nbconvert_exporter": "python",
   "pygments_lexer": "ipython3",
   "version": "3.8.8"
  },
  "toc": {
   "base_numbering": 1,
   "nav_menu": {},
   "number_sections": false,
   "sideBar": true,
   "skip_h1_title": false,
   "title_cell": "Table of Contents",
   "title_sidebar": "Contents",
   "toc_cell": false,
   "toc_position": {},
   "toc_section_display": true,
   "toc_window_display": true
  },
  "varInspector": {
   "cols": {
    "lenName": 16,
    "lenType": 16,
    "lenVar": 40
   },
   "kernels_config": {
    "python": {
     "delete_cmd_postfix": "",
     "delete_cmd_prefix": "del ",
     "library": "var_list.py",
     "varRefreshCmd": "print(var_dic_list())"
    },
    "r": {
     "delete_cmd_postfix": ") ",
     "delete_cmd_prefix": "rm(",
     "library": "var_list.r",
     "varRefreshCmd": "cat(var_dic_list()) "
    }
   },
   "types_to_exclude": [
    "module",
    "function",
    "builtin_function_or_method",
    "instance",
    "_Feature"
   ],
   "window_display": false
  }
 },
 "nbformat": 4,
 "nbformat_minor": 5
}
