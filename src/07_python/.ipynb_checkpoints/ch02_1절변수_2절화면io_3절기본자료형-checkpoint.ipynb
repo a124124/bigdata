{
 "cells": [
  {
   "cell_type": "markdown",
   "id": "57013bf0",
   "metadata": {},
   "source": [
    "<b><font size='6' color='red'>ch02. 자료형과 연산자</b>"
   ]
  },
  {
   "cell_type": "markdown",
   "id": "b261e3ac",
   "metadata": {},
   "source": [
    "# 1절. 변수선언\n",
    "* 값을 저장할 수 있는 변수를 만드는 것.\n",
    "* 파이썬은 변수선언을 위한 타입이 없고 별도의 선언 과정이 없음"
   ]
  },
  {
   "cell_type": "markdown",
   "id": "b7462fcf",
   "metadata": {},
   "source": [
    "## 1.2 변수 할당"
   ]
  },
  {
   "cell_type": "markdown",
   "id": "a9fce5ec",
   "metadata": {
    "ExecuteTime": {
     "end_time": "2021-07-19T04:08:20.543305Z",
     "start_time": "2021-07-19T04:08:20.530340Z"
    }
   },
   "source": [
    "\n",
    "* 어떤 값이 이름을 갖도록 하는 과정. \n",
    "* 할당 연산자(=)"
   ]
  },
  {
   "cell_type": "code",
   "execution_count": null,
   "id": "f114f839",
   "metadata": {},
   "outputs": [],
   "source": []
  },
  {
   "cell_type": "code",
   "execution_count": null,
   "id": "d0fe423c",
   "metadata": {},
   "outputs": [],
   "source": []
  },
  {
   "cell_type": "code",
   "execution_count": 19,
   "id": "1027ca85",
   "metadata": {
    "ExecuteTime": {
     "end_time": "2021-07-19T04:10:05.271550Z",
     "start_time": "2021-07-19T04:10:05.254490Z"
    }
   },
   "outputs": [
    {
     "name": "stdout",
     "output_type": "stream",
     "text": [
      "계산된 넓이는 78.5\n"
     ]
    }
   ],
   "source": [
    "r = 5\n",
    "area = 3.14 * r * r\n",
    "print('계산된 넓이는', area)"
   ]
  },
  {
   "cell_type": "code",
   "execution_count": 20,
   "id": "ab88b64b",
   "metadata": {
    "ExecuteTime": {
     "end_time": "2021-07-19T04:10:06.793419Z",
     "start_time": "2021-07-19T04:10:06.782448Z"
    }
   },
   "outputs": [],
   "source": [
    "r = '문자'"
   ]
  },
  {
   "cell_type": "code",
   "execution_count": 21,
   "id": "75e1d2c2",
   "metadata": {
    "ExecuteTime": {
     "end_time": "2021-07-19T04:12:09.901454Z",
     "start_time": "2021-07-19T04:12:09.886525Z"
    }
   },
   "outputs": [
    {
     "name": "stdout",
     "output_type": "stream",
     "text": [
      "78.53981633974483\n"
     ]
    }
   ],
   "source": [
    "import numpy as np # numpy 라는 패키지를 np라는 이름으로 사용하겠다 라는 명령어\n",
    "r = 5\n",
    "area = np.pi * r * r\n",
    "print(area)"
   ]
  },
  {
   "cell_type": "code",
   "execution_count": 23,
   "id": "787cba0e",
   "metadata": {
    "ExecuteTime": {
     "end_time": "2021-07-19T04:12:45.753630Z",
     "start_time": "2021-07-19T04:12:45.749668Z"
    }
   },
   "outputs": [],
   "source": [
    "a = 10"
   ]
  },
  {
   "cell_type": "code",
   "execution_count": 26,
   "id": "7ea468ef",
   "metadata": {
    "ExecuteTime": {
     "end_time": "2021-07-19T04:13:09.385860Z",
     "start_time": "2021-07-19T04:13:09.375859Z"
    }
   },
   "outputs": [
    {
     "name": "stdout",
     "output_type": "stream",
     "text": [
      "140703986952272\n",
      "<class 'int'>\n"
     ]
    }
   ],
   "source": [
    "print(id(a))\n",
    "print(type(a))"
   ]
  },
  {
   "cell_type": "code",
   "execution_count": 27,
   "id": "2cfa208f",
   "metadata": {
    "ExecuteTime": {
     "end_time": "2021-07-19T04:13:51.279709Z",
     "start_time": "2021-07-19T04:13:51.262764Z"
    }
   },
   "outputs": [
    {
     "name": "stdout",
     "output_type": "stream",
     "text": [
      "<class 'str'>\n",
      "2240923388688\n"
     ]
    }
   ],
   "source": [
    "a = '파이썬'\n",
    "print(type(a))\n",
    "print(id(a))"
   ]
  },
  {
   "cell_type": "markdown",
   "id": "ff11891e",
   "metadata": {},
   "source": [
    "## 1.3 변수 이름 규칙\n",
    "- 문자로 시작.\n",
    "- 문자, 숫자, _로 변수명 작성\n",
    "- 파이썬에서 제공되는 기본 함수명은 피한다.\n",
    "- 파이썬 예약어는 변수명 불가\n"
   ]
  },
  {
   "cell_type": "code",
   "execution_count": 29,
   "id": "89f09ba4",
   "metadata": {
    "ExecuteTime": {
     "end_time": "2021-07-19T04:16:55.056515Z",
     "start_time": "2021-07-19T04:16:55.046541Z"
    }
   },
   "outputs": [
    {
     "data": {
      "text/plain": [
       "'북한'"
      ]
     },
     "execution_count": 29,
     "metadata": {},
     "output_type": "execute_result"
    }
   ],
   "source": [
    "불용어 = '북한'\n",
    "불용어\n"
   ]
  },
  {
   "cell_type": "code",
   "execution_count": 30,
   "id": "4d97b207",
   "metadata": {
    "ExecuteTime": {
     "end_time": "2021-07-19T04:18:03.027306Z",
     "start_time": "2021-07-19T04:18:03.022319Z"
    }
   },
   "outputs": [
    {
     "ename": "SyntaxError",
     "evalue": "invalid syntax (<ipython-input-30-1a9bb92cc795>, line 1)",
     "output_type": "error",
     "traceback": [
      "\u001b[1;36m  File \u001b[1;32m\"<ipython-input-30-1a9bb92cc795>\"\u001b[1;36m, line \u001b[1;32m1\u001b[0m\n\u001b[1;33m    if = 5\u001b[0m\n\u001b[1;37m       ^\u001b[0m\n\u001b[1;31mSyntaxError\u001b[0m\u001b[1;31m:\u001b[0m invalid syntax\n"
     ]
    }
   ],
   "source": [
    "if = 5"
   ]
  },
  {
   "cell_type": "code",
   "execution_count": 31,
   "id": "0470c183",
   "metadata": {
    "ExecuteTime": {
     "end_time": "2021-07-19T04:18:17.317950Z",
     "start_time": "2021-07-19T04:18:17.311944Z"
    }
   },
   "outputs": [],
   "source": [
    "print = 5"
   ]
  },
  {
   "cell_type": "code",
   "execution_count": 32,
   "id": "eb7b240d",
   "metadata": {
    "ExecuteTime": {
     "end_time": "2021-07-19T04:18:21.371017Z",
     "start_time": "2021-07-19T04:18:21.367033Z"
    }
   },
   "outputs": [],
   "source": [
    "del print"
   ]
  },
  {
   "cell_type": "code",
   "execution_count": 33,
   "id": "2a04c77a",
   "metadata": {
    "ExecuteTime": {
     "end_time": "2021-07-19T04:18:44.556603Z",
     "start_time": "2021-07-19T04:18:44.550618Z"
    }
   },
   "outputs": [
    {
     "name": "stdout",
     "output_type": "stream",
     "text": [
      "h\n"
     ]
    }
   ],
   "source": [
    "\n",
    "print('h')"
   ]
  },
  {
   "cell_type": "code",
   "execution_count": 34,
   "id": "f57143d6",
   "metadata": {
    "ExecuteTime": {
     "end_time": "2021-07-19T04:20:04.351127Z",
     "start_time": "2021-07-19T04:20:04.335138Z"
    }
   },
   "outputs": [
    {
     "data": {
      "text/plain": [
       "complex"
      ]
     },
     "execution_count": 34,
     "metadata": {},
     "output_type": "execute_result"
    }
   ],
   "source": [
    "i = 3 + 5j\n",
    "type(i)"
   ]
  },
  {
   "cell_type": "code",
   "execution_count": 35,
   "id": "27cb20e8",
   "metadata": {
    "ExecuteTime": {
     "end_time": "2021-07-19T04:20:23.788667Z",
     "start_time": "2021-07-19T04:20:23.782697Z"
    }
   },
   "outputs": [
    {
     "name": "stdout",
     "output_type": "stream",
     "text": [
      "(-16+30j)\n"
     ]
    }
   ],
   "source": [
    "print(i*i)"
   ]
  },
  {
   "cell_type": "code",
   "execution_count": 37,
   "id": "f33aed1e",
   "metadata": {
    "ExecuteTime": {
     "end_time": "2021-07-19T04:21:28.485194Z",
     "start_time": "2021-07-19T04:21:28.472228Z"
    }
   },
   "outputs": [
    {
     "data": {
      "text/plain": [
       "True"
      ]
     },
     "execution_count": 37,
     "metadata": {},
     "output_type": "execute_result"
    }
   ],
   "source": [
    "# 자동완성 (Tab키)\n",
    "isinstance(i, complex) # i 변수가 complex 타입인지 여부 반환"
   ]
  },
  {
   "cell_type": "code",
   "execution_count": 44,
   "id": "4ecd64b8",
   "metadata": {
    "ExecuteTime": {
     "end_time": "2021-07-19T05:38:04.778231Z",
     "start_time": "2021-07-19T05:38:04.772247Z"
    }
   },
   "outputs": [],
   "source": [
    "a, b = 10, 20 # 다중 변수 선언"
   ]
  },
  {
   "cell_type": "code",
   "execution_count": null,
   "id": "d0009fc3",
   "metadata": {},
   "outputs": [],
   "source": []
  },
  {
   "cell_type": "code",
   "execution_count": 45,
   "id": "fc705ba8",
   "metadata": {
    "ExecuteTime": {
     "end_time": "2021-07-19T05:38:07.360417Z",
     "start_time": "2021-07-19T05:38:07.349434Z"
    }
   },
   "outputs": [
    {
     "data": {
      "text/plain": [
       "(10, 20)"
      ]
     },
     "execution_count": 45,
     "metadata": {},
     "output_type": "execute_result"
    }
   ],
   "source": [
    "a,b"
   ]
  },
  {
   "cell_type": "code",
   "execution_count": null,
   "id": "83d5216a",
   "metadata": {},
   "outputs": [],
   "source": []
  },
  {
   "cell_type": "code",
   "execution_count": 46,
   "id": "016eb53c",
   "metadata": {
    "ExecuteTime": {
     "end_time": "2021-07-19T05:39:18.238628Z",
     "start_time": "2021-07-19T05:39:18.229670Z"
    }
   },
   "outputs": [],
   "source": [
    "a, b = b, a+b # 다중 변수 할당 시 순차적 할당이 아니고 일괄할당이 된다\n",
    "\n"
   ]
  },
  {
   "cell_type": "code",
   "execution_count": 47,
   "id": "70fddc7e",
   "metadata": {
    "ExecuteTime": {
     "end_time": "2021-07-19T05:39:22.819336Z",
     "start_time": "2021-07-19T05:39:22.812356Z"
    }
   },
   "outputs": [
    {
     "data": {
      "text/plain": [
       "(20, 30)"
      ]
     },
     "execution_count": 47,
     "metadata": {},
     "output_type": "execute_result"
    }
   ],
   "source": [
    "a,b\n"
   ]
  },
  {
   "cell_type": "code",
   "execution_count": 48,
   "id": "366f8beb",
   "metadata": {
    "ExecuteTime": {
     "end_time": "2021-07-19T05:40:46.669398Z",
     "start_time": "2021-07-19T05:40:46.660422Z"
    },
    "scrolled": false
   },
   "outputs": [
    {
     "name": "stdout",
     "output_type": "stream",
     "text": [
      "Help on built-in function print in module builtins:\n",
      "\n",
      "print(...)\n",
      "    print(value, ..., sep=' ', end='\\n', file=sys.stdout, flush=False)\n",
      "    \n",
      "    Prints the values to a stream, or to sys.stdout by default.\n",
      "    Optional keyword arguments:\n",
      "    file:  a file-like object (stream); defaults to the current sys.stdout.\n",
      "    sep:   string inserted between values, default a space.\n",
      "    end:   string appended after the last value, default a newline.\n",
      "    flush: whether to forcibly flush the stream.\n",
      "\n"
     ]
    }
   ],
   "source": [
    "help(print)"
   ]
  },
  {
   "cell_type": "code",
   "execution_count": 52,
   "id": "417168c5",
   "metadata": {
    "ExecuteTime": {
     "end_time": "2021-07-19T05:42:54.735778Z",
     "start_time": "2021-07-19T05:41:10.557606Z"
    }
   },
   "outputs": [
    {
     "name": "stdout",
     "output_type": "stream",
     "text": [
      "\n",
      "Welcome to Python 3.8's help utility!\n",
      "\n",
      "If this is your first time using Python, you should definitely check out\n",
      "the tutorial on the Internet at https://docs.python.org/3.8/tutorial/.\n",
      "\n",
      "Enter the name of any module, keyword, or topic to get help on writing\n",
      "Python programs and using Python modules.  To quit this help utility and\n",
      "return to the interpreter, just type \"quit\".\n",
      "\n",
      "To get a list of available modules, keywords, symbols, or topics, type\n",
      "\"modules\", \"keywords\", \"symbols\", or \"topics\".  Each module also comes\n",
      "with a one-line summary of what it does; to list the modules whose name\n",
      "or summary contain a given string such as \"spam\", type \"modules spam\".\n",
      "\n",
      "help> str\n",
      "Help on class str in module builtins:\n",
      "\n",
      "class str(object)\n",
      " |  str(object='') -> str\n",
      " |  str(bytes_or_buffer[, encoding[, errors]]) -> str\n",
      " |  \n",
      " |  Create a new string object from the given object. If encoding or\n",
      " |  errors is specified, then the object must expose a data buffer\n",
      " |  that will be decoded using the given encoding and error handler.\n",
      " |  Otherwise, returns the result of object.__str__() (if defined)\n",
      " |  or repr(object).\n",
      " |  encoding defaults to sys.getdefaultencoding().\n",
      " |  errors defaults to 'strict'.\n",
      " |  \n",
      " |  Methods defined here:\n",
      " |  \n",
      " |  __add__(self, value, /)\n",
      " |      Return self+value.\n",
      " |  \n",
      " |  __contains__(self, key, /)\n",
      " |      Return key in self.\n",
      " |  \n",
      " |  __eq__(self, value, /)\n",
      " |      Return self==value.\n",
      " |  \n",
      " |  __format__(self, format_spec, /)\n",
      " |      Return a formatted version of the string as described by format_spec.\n",
      " |  \n",
      " |  __ge__(self, value, /)\n",
      " |      Return self>=value.\n",
      " |  \n",
      " |  __getattribute__(self, name, /)\n",
      " |      Return getattr(self, name).\n",
      " |  \n",
      " |  __getitem__(self, key, /)\n",
      " |      Return self[key].\n",
      " |  \n",
      " |  __getnewargs__(...)\n",
      " |  \n",
      " |  __gt__(self, value, /)\n",
      " |      Return self>value.\n",
      " |  \n",
      " |  __hash__(self, /)\n",
      " |      Return hash(self).\n",
      " |  \n",
      " |  __iter__(self, /)\n",
      " |      Implement iter(self).\n",
      " |  \n",
      " |  __le__(self, value, /)\n",
      " |      Return self<=value.\n",
      " |  \n",
      " |  __len__(self, /)\n",
      " |      Return len(self).\n",
      " |  \n",
      " |  __lt__(self, value, /)\n",
      " |      Return self<value.\n",
      " |  \n",
      " |  __mod__(self, value, /)\n",
      " |      Return self%value.\n",
      " |  \n",
      " |  __mul__(self, value, /)\n",
      " |      Return self*value.\n",
      " |  \n",
      " |  __ne__(self, value, /)\n",
      " |      Return self!=value.\n",
      " |  \n",
      " |  __repr__(self, /)\n",
      " |      Return repr(self).\n",
      " |  \n",
      " |  __rmod__(self, value, /)\n",
      " |      Return value%self.\n",
      " |  \n",
      " |  __rmul__(self, value, /)\n",
      " |      Return value*self.\n",
      " |  \n",
      " |  __sizeof__(self, /)\n",
      " |      Return the size of the string in memory, in bytes.\n",
      " |  \n",
      " |  __str__(self, /)\n",
      " |      Return str(self).\n",
      " |  \n",
      " |  capitalize(self, /)\n",
      " |      Return a capitalized version of the string.\n",
      " |      \n",
      " |      More specifically, make the first character have upper case and the rest lower\n",
      " |      case.\n",
      " |  \n",
      " |  casefold(self, /)\n",
      " |      Return a version of the string suitable for caseless comparisons.\n",
      " |  \n",
      " |  center(self, width, fillchar=' ', /)\n",
      " |      Return a centered string of length width.\n",
      " |      \n",
      " |      Padding is done using the specified fill character (default is a space).\n",
      " |  \n",
      " |  count(...)\n",
      " |      S.count(sub[, start[, end]]) -> int\n",
      " |      \n",
      " |      Return the number of non-overlapping occurrences of substring sub in\n",
      " |      string S[start:end].  Optional arguments start and end are\n",
      " |      interpreted as in slice notation.\n",
      " |  \n",
      " |  encode(self, /, encoding='utf-8', errors='strict')\n",
      " |      Encode the string using the codec registered for encoding.\n",
      " |      \n",
      " |      encoding\n",
      " |        The encoding in which to encode the string.\n",
      " |      errors\n",
      " |        The error handling scheme to use for encoding errors.\n",
      " |        The default is 'strict' meaning that encoding errors raise a\n",
      " |        UnicodeEncodeError.  Other possible values are 'ignore', 'replace' and\n",
      " |        'xmlcharrefreplace' as well as any other name registered with\n",
      " |        codecs.register_error that can handle UnicodeEncodeErrors.\n",
      " |  \n",
      " |  endswith(...)\n",
      " |      S.endswith(suffix[, start[, end]]) -> bool\n",
      " |      \n",
      " |      Return True if S ends with the specified suffix, False otherwise.\n",
      " |      With optional start, test S beginning at that position.\n",
      " |      With optional end, stop comparing S at that position.\n",
      " |      suffix can also be a tuple of strings to try.\n",
      " |  \n",
      " |  expandtabs(self, /, tabsize=8)\n",
      " |      Return a copy where all tab characters are expanded using spaces.\n",
      " |      \n",
      " |      If tabsize is not given, a tab size of 8 characters is assumed.\n",
      " |  \n",
      " |  find(...)\n",
      " |      S.find(sub[, start[, end]]) -> int\n",
      " |      \n",
      " |      Return the lowest index in S where substring sub is found,\n",
      " |      such that sub is contained within S[start:end].  Optional\n",
      " |      arguments start and end are interpreted as in slice notation.\n",
      " |      \n",
      " |      Return -1 on failure.\n",
      " |  \n",
      " |  format(...)\n",
      " |      S.format(*args, **kwargs) -> str\n",
      " |      \n",
      " |      Return a formatted version of S, using substitutions from args and kwargs.\n",
      " |      The substitutions are identified by braces ('{' and '}').\n",
      " |  \n",
      " |  format_map(...)\n",
      " |      S.format_map(mapping) -> str\n",
      " |      \n",
      " |      Return a formatted version of S, using substitutions from mapping.\n",
      " |      The substitutions are identified by braces ('{' and '}').\n",
      " |  \n",
      " |  index(...)\n",
      " |      S.index(sub[, start[, end]]) -> int\n",
      " |      \n",
      " |      Return the lowest index in S where substring sub is found,\n",
      " |      such that sub is contained within S[start:end].  Optional\n",
      " |      arguments start and end are interpreted as in slice notation.\n",
      " |      \n",
      " |      Raises ValueError when the substring is not found.\n",
      " |  \n",
      " |  isalnum(self, /)\n",
      " |      Return True if the string is an alpha-numeric string, False otherwise.\n",
      " |      \n",
      " |      A string is alpha-numeric if all characters in the string are alpha-numeric and\n",
      " |      there is at least one character in the string.\n",
      " |  \n",
      " |  isalpha(self, /)\n",
      " |      Return True if the string is an alphabetic string, False otherwise.\n",
      " |      \n",
      " |      A string is alphabetic if all characters in the string are alphabetic and there\n",
      " |      is at least one character in the string.\n",
      " |  \n",
      " |  isascii(self, /)\n",
      " |      Return True if all characters in the string are ASCII, False otherwise.\n",
      " |      \n",
      " |      ASCII characters have code points in the range U+0000-U+007F.\n",
      " |      Empty string is ASCII too.\n",
      " |  \n",
      " |  isdecimal(self, /)\n",
      " |      Return True if the string is a decimal string, False otherwise.\n",
      " |      \n",
      " |      A string is a decimal string if all characters in the string are decimal and\n",
      " |      there is at least one character in the string.\n",
      " |  \n",
      " |  isdigit(self, /)\n",
      " |      Return True if the string is a digit string, False otherwise.\n",
      " |      \n",
      " |      A string is a digit string if all characters in the string are digits and there\n",
      " |      is at least one character in the string.\n",
      " |  \n",
      " |  isidentifier(self, /)\n",
      " |      Return True if the string is a valid Python identifier, False otherwise.\n",
      " |      \n",
      " |      Call keyword.iskeyword(s) to test whether string s is a reserved identifier,\n",
      " |      such as \"def\" or \"class\".\n",
      " |  \n",
      " |  islower(self, /)\n",
      " |      Return True if the string is a lowercase string, False otherwise.\n",
      " |      \n",
      " |      A string is lowercase if all cased characters in the string are lowercase and\n",
      " |      there is at least one cased character in the string.\n",
      " |  \n",
      " |  isnumeric(self, /)\n",
      " |      Return True if the string is a numeric string, False otherwise.\n",
      " |      \n",
      " |      A string is numeric if all characters in the string are numeric and there is at\n",
      " |      least one character in the string.\n",
      " |  \n",
      " |  isprintable(self, /)\n",
      " |      Return True if the string is printable, False otherwise.\n",
      " |      \n",
      " |      A string is printable if all of its characters are considered printable in\n",
      " |      repr() or if it is empty.\n",
      " |  \n",
      " |  isspace(self, /)\n",
      " |      Return True if the string is a whitespace string, False otherwise.\n",
      " |      \n",
      " |      A string is whitespace if all characters in the string are whitespace and there\n",
      " |      is at least one character in the string.\n",
      " |  \n",
      " |  istitle(self, /)\n",
      " |      Return True if the string is a title-cased string, False otherwise.\n",
      " |      \n",
      " |      In a title-cased string, upper- and title-case characters may only\n",
      " |      follow uncased characters and lowercase characters only cased ones.\n",
      " |  \n",
      " |  isupper(self, /)\n",
      " |      Return True if the string is an uppercase string, False otherwise.\n",
      " |      \n",
      " |      A string is uppercase if all cased characters in the string are uppercase and\n",
      " |      there is at least one cased character in the string.\n",
      " |  \n",
      " |  join(self, iterable, /)\n",
      " |      Concatenate any number of strings.\n",
      " |      \n",
      " |      The string whose method is called is inserted in between each given string.\n",
      " |      The result is returned as a new string.\n",
      " |      \n",
      " |      Example: '.'.join(['ab', 'pq', 'rs']) -> 'ab.pq.rs'\n",
      " |  \n",
      " |  ljust(self, width, fillchar=' ', /)\n",
      " |      Return a left-justified string of length width.\n",
      " |      \n",
      " |      Padding is done using the specified fill character (default is a space).\n",
      " |  \n",
      " |  lower(self, /)\n",
      " |      Return a copy of the string converted to lowercase.\n",
      " |  \n",
      " |  lstrip(self, chars=None, /)\n",
      " |      Return a copy of the string with leading whitespace removed.\n",
      " |      \n",
      " |      If chars is given and not None, remove characters in chars instead.\n",
      " |  \n",
      " |  partition(self, sep, /)\n",
      " |      Partition the string into three parts using the given separator.\n",
      " |      \n",
      " |      This will search for the separator in the string.  If the separator is found,\n",
      " |      returns a 3-tuple containing the part before the separator, the separator\n",
      " |      itself, and the part after it.\n",
      " |      \n",
      " |      If the separator is not found, returns a 3-tuple containing the original string\n",
      " |      and two empty strings.\n",
      " |  \n",
      " |  replace(self, old, new, count=-1, /)\n",
      " |      Return a copy with all occurrences of substring old replaced by new.\n",
      " |      \n",
      " |        count\n",
      " |          Maximum number of occurrences to replace.\n",
      " |          -1 (the default value) means replace all occurrences.\n",
      " |      \n",
      " |      If the optional argument count is given, only the first count occurrences are\n",
      " |      replaced.\n",
      " |  \n",
      " |  rfind(...)\n",
      " |      S.rfind(sub[, start[, end]]) -> int\n",
      " |      \n",
      " |      Return the highest index in S where substring sub is found,\n",
      " |      such that sub is contained within S[start:end].  Optional\n",
      " |      arguments start and end are interpreted as in slice notation.\n",
      " |      \n",
      " |      Return -1 on failure.\n",
      " |  \n",
      " |  rindex(...)\n",
      " |      S.rindex(sub[, start[, end]]) -> int\n",
      " |      \n",
      " |      Return the highest index in S where substring sub is found,\n",
      " |      such that sub is contained within S[start:end].  Optional\n",
      " |      arguments start and end are interpreted as in slice notation.\n",
      " |      \n",
      " |      Raises ValueError when the substring is not found.\n",
      " |  \n",
      " |  rjust(self, width, fillchar=' ', /)\n",
      " |      Return a right-justified string of length width.\n",
      " |      \n",
      " |      Padding is done using the specified fill character (default is a space).\n",
      " |  \n",
      " |  rpartition(self, sep, /)\n",
      " |      Partition the string into three parts using the given separator.\n",
      " |      \n",
      " |      This will search for the separator in the string, starting at the end. If\n",
      " |      the separator is found, returns a 3-tuple containing the part before the\n",
      " |      separator, the separator itself, and the part after it.\n",
      " |      \n",
      " |      If the separator is not found, returns a 3-tuple containing two empty strings\n",
      " |      and the original string.\n",
      " |  \n",
      " |  rsplit(self, /, sep=None, maxsplit=-1)\n",
      " |      Return a list of the words in the string, using sep as the delimiter string.\n",
      " |      \n",
      " |        sep\n",
      " |          The delimiter according which to split the string.\n",
      " |          None (the default value) means split according to any whitespace,\n",
      " |          and discard empty strings from the result.\n",
      " |        maxsplit\n",
      " |          Maximum number of splits to do.\n",
      " |          -1 (the default value) means no limit.\n",
      " |      \n",
      " |      Splits are done starting at the end of the string and working to the front.\n",
      " |  \n",
      " |  rstrip(self, chars=None, /)\n",
      " |      Return a copy of the string with trailing whitespace removed.\n",
      " |      \n",
      " |      If chars is given and not None, remove characters in chars instead.\n",
      " |  \n",
      " |  split(self, /, sep=None, maxsplit=-1)\n",
      " |      Return a list of the words in the string, using sep as the delimiter string.\n",
      " |      \n",
      " |      sep\n",
      " |        The delimiter according which to split the string.\n",
      " |        None (the default value) means split according to any whitespace,\n",
      " |        and discard empty strings from the result.\n",
      " |      maxsplit\n",
      " |        Maximum number of splits to do.\n",
      " |        -1 (the default value) means no limit.\n",
      " |  \n",
      " |  splitlines(self, /, keepends=False)\n",
      " |      Return a list of the lines in the string, breaking at line boundaries.\n",
      " |      \n",
      " |      Line breaks are not included in the resulting list unless keepends is given and\n",
      " |      true.\n",
      " |  \n",
      " |  startswith(...)\n",
      " |      S.startswith(prefix[, start[, end]]) -> bool\n",
      " |      \n",
      " |      Return True if S starts with the specified prefix, False otherwise.\n",
      " |      With optional start, test S beginning at that position.\n",
      " |      With optional end, stop comparing S at that position.\n",
      " |      prefix can also be a tuple of strings to try.\n",
      " |  \n",
      " |  strip(self, chars=None, /)\n",
      " |      Return a copy of the string with leading and trailing whitespace removed.\n",
      " |      \n",
      " |      If chars is given and not None, remove characters in chars instead.\n",
      " |  \n",
      " |  swapcase(self, /)\n",
      " |      Convert uppercase characters to lowercase and lowercase characters to uppercase.\n",
      " |  \n",
      " |  title(self, /)\n",
      " |      Return a version of the string where each word is titlecased.\n",
      " |      \n",
      " |      More specifically, words start with uppercased characters and all remaining\n",
      " |      cased characters have lower case.\n",
      " |  \n",
      " |  translate(self, table, /)\n",
      " |      Replace each character in the string using the given translation table.\n",
      " |      \n",
      " |        table\n",
      " |          Translation table, which must be a mapping of Unicode ordinals to\n",
      " |          Unicode ordinals, strings, or None.\n",
      " |      \n",
      " |      The table must implement lookup/indexing via __getitem__, for instance a\n",
      " |      dictionary or list.  If this operation raises LookupError, the character is\n",
      " |      left untouched.  Characters mapped to None are deleted.\n",
      " |  \n",
      " |  upper(self, /)\n",
      " |      Return a copy of the string converted to uppercase.\n",
      " |  \n",
      " |  zfill(self, width, /)\n",
      " |      Pad a numeric string with zeros on the left, to fill a field of the given width.\n",
      " |      \n",
      " |      The string is never truncated.\n",
      " |  \n",
      " |  ----------------------------------------------------------------------\n",
      " |  Static methods defined here:\n",
      " |  \n",
      " |  __new__(*args, **kwargs) from builtins.type\n",
      " |      Create and return a new object.  See help(type) for accurate signature.\n",
      " |  \n",
      " |  maketrans(...)\n",
      " |      Return a translation table usable for str.translate().\n",
      " |      \n",
      " |      If there is only one argument, it must be a dictionary mapping Unicode\n",
      " |      ordinals (integers) or characters to Unicode ordinals, strings or None.\n",
      " |      Character keys will be then converted to ordinals.\n",
      " |      If there are two arguments, they must be strings of equal length, and\n",
      " |      in the resulting dictionary, each character in x will be mapped to the\n",
      " |      character at the same position in y. If there is a third argument, it\n",
      " |      must be a string, whose characters will be mapped to None in the result.\n",
      "\n"
     ]
    },
    {
     "name": "stdout",
     "output_type": "stream",
     "text": [
      "\n",
      "You are now leaving help and returning to the Python interpreter.\n",
      "If you want to ask for help on a particular object directly from the\n",
      "interpreter, you can type \"help(object)\".  Executing \"help('string')\"\n",
      "has the same effect as typing a particular string at the help> prompt.\n"
     ]
    }
   ],
   "source": [
    "help()"
   ]
  },
  {
   "cell_type": "markdown",
   "id": "4100ef7e",
   "metadata": {},
   "source": [
    "# 도움말 기능 : shift + tab "
   ]
  },
  {
   "cell_type": "code",
   "execution_count": 53,
   "id": "1354b8bc",
   "metadata": {
    "ExecuteTime": {
     "end_time": "2021-07-19T05:44:37.537269Z",
     "start_time": "2021-07-19T05:44:37.532283Z"
    }
   },
   "outputs": [
    {
     "name": "stdout",
     "output_type": "stream",
     "text": [
      "\n"
     ]
    }
   ],
   "source": [
    "print() # 커서가 괄호 안에 있어야한다."
   ]
  },
  {
   "cell_type": "code",
   "execution_count": 55,
   "id": "96e7a81a",
   "metadata": {
    "ExecuteTime": {
     "end_time": "2021-07-19T05:45:48.987362Z",
     "start_time": "2021-07-19T05:45:48.981356Z"
    }
   },
   "outputs": [],
   "source": [
    "def add(x, y=0):\n",
    "    return 10*x + y"
   ]
  },
  {
   "cell_type": "code",
   "execution_count": 56,
   "id": "445fb48a",
   "metadata": {
    "ExecuteTime": {
     "end_time": "2021-07-19T05:45:53.777660Z",
     "start_time": "2021-07-19T05:45:53.765712Z"
    }
   },
   "outputs": [
    {
     "data": {
      "text/plain": [
       "50"
      ]
     },
     "execution_count": 56,
     "metadata": {},
     "output_type": "execute_result"
    }
   ],
   "source": [
    "add(5)"
   ]
  },
  {
   "cell_type": "code",
   "execution_count": 57,
   "id": "faf65474",
   "metadata": {
    "ExecuteTime": {
     "end_time": "2021-07-19T05:46:19.256765Z",
     "start_time": "2021-07-19T05:46:19.238781Z"
    }
   },
   "outputs": [
    {
     "name": "stdout",
     "output_type": "stream",
     "text": [
      "\n"
     ]
    }
   ],
   "source": [
    "print()"
   ]
  },
  {
   "cell_type": "code",
   "execution_count": 58,
   "id": "6f8ccf27",
   "metadata": {
    "ExecuteTime": {
     "end_time": "2021-07-19T05:46:21.987854Z",
     "start_time": "2021-07-19T05:46:21.973870Z"
    }
   },
   "outputs": [
    {
     "data": {
      "text/plain": [
       "54"
      ]
     },
     "execution_count": 58,
     "metadata": {},
     "output_type": "execute_result"
    }
   ],
   "source": [
    "add(5,4)"
   ]
  },
  {
   "cell_type": "markdown",
   "id": "1cc6701b",
   "metadata": {},
   "source": [
    "## 1.5 변수 삭제"
   ]
  },
  {
   "cell_type": "code",
   "execution_count": 59,
   "id": "68b3be30",
   "metadata": {
    "ExecuteTime": {
     "end_time": "2021-07-19T05:48:28.689833Z",
     "start_time": "2021-07-19T05:48:28.677886Z"
    }
   },
   "outputs": [
    {
     "ename": "NameError",
     "evalue": "name 'a' is not defined",
     "output_type": "error",
     "traceback": [
      "\u001b[1;31m---------------------------------------------------------------------------\u001b[0m",
      "\u001b[1;31mNameError\u001b[0m                                 Traceback (most recent call last)",
      "\u001b[1;32m<ipython-input-59-3f786850e387>\u001b[0m in \u001b[0;36m<module>\u001b[1;34m\u001b[0m\n\u001b[1;32m----> 1\u001b[1;33m \u001b[0ma\u001b[0m\u001b[1;33m\u001b[0m\u001b[1;33m\u001b[0m\u001b[0m\n\u001b[0m",
      "\u001b[1;31mNameError\u001b[0m: name 'a' is not defined"
     ]
    }
   ],
   "source": [
    "a"
   ]
  },
  {
   "cell_type": "code",
   "execution_count": 60,
   "id": "bec95579",
   "metadata": {
    "ExecuteTime": {
     "end_time": "2021-07-19T05:48:43.482953Z",
     "start_time": "2021-07-19T05:48:43.476969Z"
    }
   },
   "outputs": [],
   "source": [
    "del b"
   ]
  },
  {
   "cell_type": "code",
   "execution_count": 61,
   "id": "6177a095",
   "metadata": {
    "ExecuteTime": {
     "end_time": "2021-07-19T05:49:38.927955Z",
     "start_time": "2021-07-19T05:49:38.909010Z"
    }
   },
   "outputs": [
    {
     "ename": "NameError",
     "evalue": "name 'c' is not defined",
     "output_type": "error",
     "traceback": [
      "\u001b[1;31m---------------------------------------------------------------------------\u001b[0m",
      "\u001b[1;31mNameError\u001b[0m                                 Traceback (most recent call last)",
      "\u001b[1;32m<ipython-input-61-bea22727310f>\u001b[0m in \u001b[0;36m<module>\u001b[1;34m\u001b[0m\n\u001b[1;32m----> 1\u001b[1;33m \u001b[1;32mdel\u001b[0m \u001b[1;33m(\u001b[0m\u001b[0mc\u001b[0m\u001b[1;33m)\u001b[0m\u001b[1;33m\u001b[0m\u001b[1;33m\u001b[0m\u001b[0m\n\u001b[0m",
      "\u001b[1;31mNameError\u001b[0m: name 'c' is not defined"
     ]
    }
   ],
   "source": [
    "del (c)"
   ]
  },
  {
   "cell_type": "markdown",
   "id": "ef7a3cf2",
   "metadata": {},
   "source": [
    "# 2절. 화면 i/o"
   ]
  },
  {
   "cell_type": "code",
   "execution_count": 64,
   "id": "aed83495",
   "metadata": {
    "ExecuteTime": {
     "end_time": "2021-07-19T05:52:15.790949Z",
     "start_time": "2021-07-19T05:52:13.757192Z"
    }
   },
   "outputs": [
    {
     "name": "stdout",
     "output_type": "stream",
     "text": [
      "첫번째 숫자는?10\n",
      "두번째 숫자는?20\n"
     ]
    }
   ],
   "source": [
    "first = input('첫번째 숫자는?')\n",
    "second = input('두번째 숫자는?')"
   ]
  },
  {
   "cell_type": "code",
   "execution_count": 71,
   "id": "ee227094",
   "metadata": {
    "ExecuteTime": {
     "end_time": "2021-07-19T05:53:35.298587Z",
     "start_time": "2021-07-19T05:53:35.294593Z"
    }
   },
   "outputs": [
    {
     "name": "stdout",
     "output_type": "stream",
     "text": [
      "두 수의 합은 3\n"
     ]
    }
   ],
   "source": [
    "print('두 수의 합은', first+second)"
   ]
  },
  {
   "cell_type": "code",
   "execution_count": 72,
   "id": "cc3104d5",
   "metadata": {
    "ExecuteTime": {
     "end_time": "2021-07-19T05:53:35.974230Z",
     "start_time": "2021-07-19T05:53:35.959270Z"
    }
   },
   "outputs": [
    {
     "name": "stdout",
     "output_type": "stream",
     "text": [
      "두 수의 합은 3\n"
     ]
    }
   ],
   "source": [
    "print('두 수의 합은', int(first)+int(second))\n"
   ]
  },
  {
   "cell_type": "code",
   "execution_count": 70,
   "id": "59b462dd",
   "metadata": {
    "ExecuteTime": {
     "end_time": "2021-07-19T05:53:34.392933Z",
     "start_time": "2021-07-19T05:53:33.606160Z"
    }
   },
   "outputs": [
    {
     "name": "stdout",
     "output_type": "stream",
     "text": [
      "첫 번째 수는?1\n",
      "두 번째 수는?2\n"
     ]
    }
   ],
   "source": [
    "first = int(input('첫 번째 수는?'))\n",
    "second = int(input('두 번째 수는?'))"
   ]
  },
  {
   "cell_type": "code",
   "execution_count": 75,
   "id": "3e15c35d",
   "metadata": {
    "ExecuteTime": {
     "end_time": "2021-07-19T05:56:22.175393Z",
     "start_time": "2021-07-19T05:56:22.158457Z"
    }
   },
   "outputs": [
    {
     "name": "stdout",
     "output_type": "stream",
     "text": [
      "hello ~ world\n",
      "hello / hadoop\n"
     ]
    }
   ],
   "source": [
    "print('hello','world',sep=' ~ ', end='\\n')\n",
    "print('hello','hadoop',sep=' / ', end='\\n')"
   ]
  },
  {
   "cell_type": "markdown",
   "id": "524b2615",
   "metadata": {},
   "source": [
    "# 3절 기본 자료형\n",
    "- 숫자 (정수, 실수, 복소수), 문자, 논리형(True, False)"
   ]
  },
  {
   "cell_type": "markdown",
   "id": "100db807",
   "metadata": {},
   "source": [
    "## 3.1 숫자형"
   ]
  },
  {
   "cell_type": "code",
   "execution_count": 77,
   "id": "aae324e3",
   "metadata": {
    "ExecuteTime": {
     "end_time": "2021-07-19T06:01:11.998360Z",
     "start_time": "2021-07-19T06:01:11.990354Z"
    }
   },
   "outputs": [
    {
     "name": "stdout",
     "output_type": "stream",
     "text": [
      "9223372036854775807\n"
     ]
    }
   ],
   "source": [
    "import sys\n",
    "print(sys.maxsize)"
   ]
  },
  {
   "cell_type": "code",
   "execution_count": 79,
   "id": "69227bf4",
   "metadata": {
    "ExecuteTime": {
     "end_time": "2021-07-19T06:02:58.804837Z",
     "start_time": "2021-07-19T06:02:58.789890Z"
    }
   },
   "outputs": [
    {
     "name": "stdout",
     "output_type": "stream",
     "text": [
      "<class 'int'>\n",
      "9223372036854776807\n"
     ]
    }
   ],
   "source": [
    "i = 9223372036854775807 + 1000\n",
    "print(type(i))\n",
    "print(i) # 소수점이 없는 모든 수는 int(정수)"
   ]
  },
  {
   "cell_type": "code",
   "execution_count": 80,
   "id": "2092e120",
   "metadata": {
    "ExecuteTime": {
     "end_time": "2021-07-19T06:03:14.788875Z",
     "start_time": "2021-07-19T06:03:14.774912Z"
    }
   },
   "outputs": [
    {
     "data": {
      "text/plain": [
       "float"
      ]
     },
     "execution_count": 80,
     "metadata": {},
     "output_type": "execute_result"
    }
   ],
   "source": [
    "f = 3.0\n",
    "type(f)"
   ]
  },
  {
   "cell_type": "code",
   "execution_count": 82,
   "id": "fc4015a6",
   "metadata": {
    "ExecuteTime": {
     "end_time": "2021-07-19T06:04:04.612537Z",
     "start_time": "2021-07-19T06:04:04.599544Z"
    }
   },
   "outputs": [
    {
     "name": "stdout",
     "output_type": "stream",
     "text": [
      "1.5\n"
     ]
    }
   ],
   "source": [
    "f = 3/2\n",
    "print(f)"
   ]
  },
  {
   "cell_type": "code",
   "execution_count": 84,
   "id": "64e4eaa7",
   "metadata": {
    "ExecuteTime": {
     "end_time": "2021-07-19T06:04:13.315730Z",
     "start_time": "2021-07-19T06:04:13.303753Z"
    }
   },
   "outputs": [
    {
     "data": {
      "text/plain": [
       "1.0"
      ]
     },
     "execution_count": 84,
     "metadata": {},
     "output_type": "execute_result"
    }
   ],
   "source": [
    "f = 2/2\n",
    "f"
   ]
  },
  {
   "cell_type": "code",
   "execution_count": 85,
   "id": "c875cfc9",
   "metadata": {
    "ExecuteTime": {
     "end_time": "2021-07-19T06:05:54.628253Z",
     "start_time": "2021-07-19T06:05:54.615302Z"
    }
   },
   "outputs": [
    {
     "data": {
      "text/plain": [
       "1"
      ]
     },
     "execution_count": 85,
     "metadata": {},
     "output_type": "execute_result"
    }
   ],
   "source": [
    "# 자바처럼 하고싶다면?\n",
    "f = int(3/2)\n",
    "f\n",
    "f = 3//2\n",
    "f"
   ]
  },
  {
   "cell_type": "code",
   "execution_count": 88,
   "id": "bc515a94",
   "metadata": {
    "ExecuteTime": {
     "end_time": "2021-07-19T06:06:16.937888Z",
     "start_time": "2021-07-19T06:06:16.918926Z"
    }
   },
   "outputs": [
    {
     "name": "stdout",
     "output_type": "stream",
     "text": [
      "(-1+0j)\n"
     ]
    }
   ],
   "source": [
    "b = 0 + 1j\n",
    "print(b**2)"
   ]
  },
  {
   "cell_type": "code",
   "execution_count": 92,
   "id": "96d417c5",
   "metadata": {
    "ExecuteTime": {
     "end_time": "2021-07-19T06:08:35.332107Z",
     "start_time": "2021-07-19T06:08:35.327120Z"
    }
   },
   "outputs": [
    {
     "name": "stdout",
     "output_type": "stream",
     "text": [
      "1.12e-12\n",
      "11200000000.0\n"
     ]
    }
   ],
   "source": [
    "f = 1.12e-12 \n",
    "print(f)\n",
    "f = 1.12e10\n",
    "print(f)"
   ]
  },
  {
   "cell_type": "markdown",
   "id": "8c35ba19",
   "metadata": {},
   "source": [
    "## 3.2 문자형"
   ]
  },
  {
   "cell_type": "code",
   "execution_count": 94,
   "id": "4e5c0c42",
   "metadata": {
    "ExecuteTime": {
     "end_time": "2021-07-19T06:09:03.589167Z",
     "start_time": "2021-07-19T06:09:03.575177Z"
    }
   },
   "outputs": [],
   "source": [
    "name = '홍길동'"
   ]
  },
  {
   "cell_type": "code",
   "execution_count": 96,
   "id": "30881e94",
   "metadata": {
    "ExecuteTime": {
     "end_time": "2021-07-19T06:10:35.685357Z",
     "start_time": "2021-07-19T06:10:35.679372Z"
    }
   },
   "outputs": [
    {
     "name": "stdout",
     "output_type": "stream",
     "text": [
      "이렇게 작성하면\n",
      "줄바꿈도 그대로 적용된다\n",
      "여러줄이된다\n",
      "\n"
     ]
    }
   ],
   "source": [
    "text = '''이렇게 작성하면\n",
    "줄바꿈도 그대로 적용된다\n",
    "여러줄이된다\n",
    "'''\n",
    "\n",
    "print(text)"
   ]
  },
  {
   "cell_type": "code",
   "execution_count": null,
   "id": "9d1ba332",
   "metadata": {},
   "outputs": [],
   "source": [
    "'''\n",
    "여러줄 주석\n",
    "2021.7.19\n",
    "마지막 오프라인 수업일\n",
    "'''\n"
   ]
  },
  {
   "cell_type": "code",
   "execution_count": 98,
   "id": "c283ba89",
   "metadata": {
    "ExecuteTime": {
     "end_time": "2021-07-19T06:13:00.566599Z",
     "start_time": "2021-07-19T06:13:00.551639Z"
    }
   },
   "outputs": [
    {
     "name": "stdout",
     "output_type": "stream",
     "text": [
      "이렇게 작성하면\n",
      "줄바꿈도 그대로 적용된다여러줄이된다\n"
     ]
    }
   ],
   "source": [
    "text = '이렇게 작성하면\\n줄바꿈도 그대로 적용된다여러줄이된다'\n",
    "print(text)\n"
   ]
  },
  {
   "cell_type": "code",
   "execution_count": 99,
   "id": "4a53a7bd",
   "metadata": {
    "ExecuteTime": {
     "end_time": "2021-07-19T06:14:14.494296Z",
     "start_time": "2021-07-19T06:14:14.479337Z"
    }
   },
   "outputs": [
    {
     "name": "stdout",
     "output_type": "stream",
     "text": [
      "Hello\\nWorld\n"
     ]
    }
   ],
   "source": [
    "print(r'Hello\\nWorld')"
   ]
  },
  {
   "cell_type": "code",
   "execution_count": 101,
   "id": "05b99e1f",
   "metadata": {
    "ExecuteTime": {
     "end_time": "2021-07-19T06:17:39.003234Z",
     "start_time": "2021-07-19T06:17:38.984303Z"
    }
   },
   "outputs": [
    {
     "name": "stdout",
     "output_type": "stream",
     "text": [
      "이름:홍길동, 주소:서울시마포구, 전화:011-1111-1111, 특징:끼엑 혈액형:B\n"
     ]
    }
   ],
   "source": [
    "# raw 데이터를 이용할 때. ex 정규표현식 이용\n",
    "import re\n",
    "\n",
    "\n",
    "\n",
    "\n",
    "data = '이름:홍길동, 주소:서울시마포구, 전화:011-1111-1111, 특징:끼엑 \\\n",
    "혈액형:B'\n",
    "print(data)"
   ]
  },
  {
   "cell_type": "code",
   "execution_count": 104,
   "id": "e023ce7c",
   "metadata": {
    "ExecuteTime": {
     "end_time": "2021-07-19T06:22:58.117172Z",
     "start_time": "2021-07-19T06:22:58.111193Z"
    }
   },
   "outputs": [
    {
     "name": "stdout",
     "output_type": "stream",
     "text": [
      "['011-1111-1111']\n"
     ]
    }
   ],
   "source": [
    "phone_pattern = r'[\\d]{2,3}-[\\d]{3,4}-[\\d]{3,4}'\n",
    "\n",
    "phone = re.findall(phone_pattern,data)\n",
    "print(phone)"
   ]
  },
  {
   "cell_type": "code",
   "execution_count": null,
   "id": "d5645583",
   "metadata": {},
   "outputs": [],
   "source": [
    "file = ''"
   ]
  },
  {
   "cell_type": "code",
   "execution_count": 107,
   "id": "d36e4e52",
   "metadata": {
    "ExecuteTime": {
     "end_time": "2021-07-19T07:13:29.564447Z",
     "start_time": "2021-07-19T07:13:29.546509Z"
    }
   },
   "outputs": [
    {
     "data": {
      "text/plain": [
       "<re.Match object; span=(22, 35), match='011-1111-1111'>"
      ]
     },
     "execution_count": 107,
     "metadata": {},
     "output_type": "execute_result"
    }
   ],
   "source": [
    "pattern = r'([\\d]{2,3}-[\\d]{3,4}-[\\d]{3,4})'\n",
    "phone = re.search(pattern, data)\n",
    "phone"
   ]
  },
  {
   "cell_type": "code",
   "execution_count": 109,
   "id": "40452afa",
   "metadata": {
    "ExecuteTime": {
     "end_time": "2021-07-19T07:14:11.274533Z",
     "start_time": "2021-07-19T07:14:11.258554Z"
    }
   },
   "outputs": [
    {
     "data": {
      "text/plain": [
       "'011-1111-1111'"
      ]
     },
     "execution_count": 109,
     "metadata": {},
     "output_type": "execute_result"
    }
   ],
   "source": [
    "data[22:35] # 문자열 슬라이싱"
   ]
  },
  {
   "cell_type": "code",
   "execution_count": 110,
   "id": "ef96c6c9",
   "metadata": {
    "ExecuteTime": {
     "end_time": "2021-07-19T07:14:52.893391Z",
     "start_time": "2021-07-19T07:14:52.883418Z"
    }
   },
   "outputs": [
    {
     "data": {
      "text/plain": [
       "'011-1111-1111'"
      ]
     },
     "execution_count": 110,
     "metadata": {},
     "output_type": "execute_result"
    }
   ],
   "source": [
    "phone.group(0)\n"
   ]
  },
  {
   "cell_type": "code",
   "execution_count": 112,
   "id": "3616ce00",
   "metadata": {
    "ExecuteTime": {
     "end_time": "2021-07-19T07:17:14.603692Z",
     "start_time": "2021-07-19T07:17:14.587735Z"
    }
   },
   "outputs": [
    {
     "data": {
      "text/plain": [
       "'0123456789'"
      ]
     },
     "execution_count": 112,
     "metadata": {},
     "output_type": "execute_result"
    }
   ],
   "source": [
    "str_='0123456789'\n",
    "str_"
   ]
  },
  {
   "cell_type": "code",
   "execution_count": 113,
   "id": "6f25734a",
   "metadata": {
    "ExecuteTime": {
     "end_time": "2021-07-19T07:17:20.686883Z",
     "start_time": "2021-07-19T07:17:20.667915Z"
    }
   },
   "outputs": [
    {
     "data": {
      "text/plain": [
       "'012'"
      ]
     },
     "execution_count": 113,
     "metadata": {},
     "output_type": "execute_result"
    }
   ],
   "source": [
    "str_[0:3] # 0부터 3앞까지 "
   ]
  },
  {
   "cell_type": "code",
   "execution_count": 115,
   "id": "8d285871",
   "metadata": {
    "ExecuteTime": {
     "end_time": "2021-07-19T07:19:30.286839Z",
     "start_time": "2021-07-19T07:19:30.268888Z"
    }
   },
   "outputs": [
    {
     "data": {
      "text/plain": [
       "'8'"
      ]
     },
     "execution_count": 115,
     "metadata": {},
     "output_type": "execute_result"
    }
   ],
   "source": [
    "str_[-2] # 음수인덱스는 뒤에서부터"
   ]
  },
  {
   "cell_type": "code",
   "execution_count": 117,
   "id": "afc865e3",
   "metadata": {
    "ExecuteTime": {
     "end_time": "2021-07-19T07:19:53.191605Z",
     "start_time": "2021-07-19T07:19:53.173623Z"
    }
   },
   "outputs": [
    {
     "data": {
      "text/plain": [
       "'5678'"
      ]
     },
     "execution_count": 117,
     "metadata": {},
     "output_type": "execute_result"
    }
   ],
   "source": [
    "str_[-5:-1] # 뒤에서 5번째부터 뒤에서 1번째 앞까지 "
   ]
  },
  {
   "cell_type": "code",
   "execution_count": 118,
   "id": "a7132392",
   "metadata": {
    "ExecuteTime": {
     "end_time": "2021-07-19T07:20:59.336968Z",
     "start_time": "2021-07-19T07:20:59.331990Z"
    }
   },
   "outputs": [
    {
     "data": {
      "text/plain": [
       "'56789'"
      ]
     },
     "execution_count": 118,
     "metadata": {},
     "output_type": "execute_result"
    }
   ],
   "source": [
    "str_[5:] # 5번째에서 끝까지"
   ]
  },
  {
   "cell_type": "code",
   "execution_count": 119,
   "id": "54512d51",
   "metadata": {
    "ExecuteTime": {
     "end_time": "2021-07-19T07:21:26.842997Z",
     "start_time": "2021-07-19T07:21:26.836016Z"
    }
   },
   "outputs": [
    {
     "data": {
      "text/plain": [
       "'01234'"
      ]
     },
     "execution_count": 119,
     "metadata": {},
     "output_type": "execute_result"
    }
   ],
   "source": [
    "str_[:-5]"
   ]
  },
  {
   "cell_type": "code",
   "execution_count": 121,
   "id": "6333c387",
   "metadata": {
    "ExecuteTime": {
     "end_time": "2021-07-19T07:21:38.284934Z",
     "start_time": "2021-07-19T07:21:38.268946Z"
    }
   },
   "outputs": [
    {
     "data": {
      "text/plain": [
       "'0123456789'"
      ]
     },
     "execution_count": 121,
     "metadata": {},
     "output_type": "execute_result"
    }
   ],
   "source": [
    "str_[:]"
   ]
  },
  {
   "cell_type": "code",
   "execution_count": 123,
   "id": "1b55fb50",
   "metadata": {
    "ExecuteTime": {
     "end_time": "2021-07-19T07:22:50.637266Z",
     "start_time": "2021-07-19T07:22:50.629272Z"
    }
   },
   "outputs": [
    {
     "data": {
      "text/plain": [
       "'56789'"
      ]
     },
     "execution_count": 123,
     "metadata": {},
     "output_type": "execute_result"
    }
   ],
   "source": [
    "# str_[19] # 없는 인덱스는 에러나나\n",
    "str_[5:19] # 슬라이싱에서 인덱스를 벗어나면 끝까지와 동일"
   ]
  },
  {
   "cell_type": "code",
   "execution_count": 131,
   "id": "cbd70b27",
   "metadata": {
    "ExecuteTime": {
     "end_time": "2021-07-19T07:48:00.088070Z",
     "start_time": "2021-07-19T07:48:00.070111Z"
    }
   },
   "outputs": [
    {
     "name": "stdout",
     "output_type": "stream",
     "text": [
      "02468\n",
      "02468\n",
      "987654321\n",
      "9876543210\n",
      "987654321\n",
      "9876543210\n"
     ]
    }
   ],
   "source": [
    "# str_[from:to:by]\n",
    "print(str_[0:9:2]) #0번째부터 2씩 증가해서 9번째 앞까지, 0,2,4,6,8 번째 인덱스\n",
    "print(str_[::2])\n",
    "# 끝부터 처음까지 (거꾸로 출력)\n",
    "print(str_[9:0:-1]) # 9번 인덱스부터 0번 인덱스 전까지\n",
    "print(str_[9::-1]) # 0번부터 맨앞까지 -1씩\n",
    "print(str_[:0:-1]) # 9번부터 0번까지 -1씩\n",
    "print(str_[::-1]) # 끝부터 처음까지 -1씩 \n"
   ]
  },
  {
   "cell_type": "markdown",
   "id": "b30e7446",
   "metadata": {},
   "source": [
    "## 3.3 논리형(True, False)"
   ]
  },
  {
   "cell_type": "code",
   "execution_count": 132,
   "id": "1129503b",
   "metadata": {
    "ExecuteTime": {
     "end_time": "2021-07-19T07:50:11.566310Z",
     "start_time": "2021-07-19T07:50:11.549836Z"
    }
   },
   "outputs": [
    {
     "name": "stdout",
     "output_type": "stream",
     "text": [
      "True\n",
      "<class 'bool'>\n",
      "True\n"
     ]
    }
   ],
   "source": [
    "a = True\n",
    "print(a)\n",
    "print(type(a))\n",
    "print(isinstance(a, bool))"
   ]
  },
  {
   "cell_type": "code",
   "execution_count": null,
   "id": "e00cd283",
   "metadata": {},
   "outputs": [],
   "source": [
    "# False로 간주되는 것: 0, None, \"\"(빈스트링), [], (), {} 등\n",
    "# True로 간주되는 것 : ' ', '\\0'(널문자)\n"
   ]
  },
  {
   "cell_type": "code",
   "execution_count": 133,
   "id": "f97a69ed",
   "metadata": {
    "ExecuteTime": {
     "end_time": "2021-07-19T07:53:42.126123Z",
     "start_time": "2021-07-19T07:53:42.118122Z"
    }
   },
   "outputs": [
    {
     "name": "stdout",
     "output_type": "stream",
     "text": [
      "빈스트링은 False다\n"
     ]
    }
   ],
   "source": [
    "if \"\":\n",
    "    print('빈스트링은 True다')\n",
    "else:\n",
    "    print('빈스트링은 False다')"
   ]
  },
  {
   "cell_type": "code",
   "execution_count": 134,
   "id": "b2cb2d38",
   "metadata": {
    "ExecuteTime": {
     "end_time": "2021-07-19T07:54:59.681161Z",
     "start_time": "2021-07-19T07:54:59.662212Z"
    }
   },
   "outputs": [
    {
     "name": "stdout",
     "output_type": "stream",
     "text": [
      "False\n"
     ]
    }
   ],
   "source": [
    "if 0+0j:\n",
    "    print('True')\n",
    "else:\n",
    "    print('False')"
   ]
  },
  {
   "cell_type": "markdown",
   "id": "31bbf4c3",
   "metadata": {},
   "source": [
    "## 3.4 자료형 확인 빛 변환"
   ]
  },
  {
   "cell_type": "markdown",
   "id": "272c0f1f",
   "metadata": {},
   "source": [
    "- type() : 자료형 확인\n",
    "- int() : 정수(int)형 변환\n",
    "- float() : 실수형 변환\n",
    "- str() : 문자형 변환\n",
    "- bool() : 논리형 변환"
   ]
  },
  {
   "cell_type": "code",
   "execution_count": 135,
   "id": "619ef204",
   "metadata": {
    "ExecuteTime": {
     "end_time": "2021-07-19T07:58:20.867398Z",
     "start_time": "2021-07-19T07:58:20.856429Z"
    }
   },
   "outputs": [
    {
     "data": {
      "text/plain": [
       "123"
      ]
     },
     "execution_count": 135,
     "metadata": {},
     "output_type": "execute_result"
    }
   ],
   "source": [
    "int(123.45)"
   ]
  },
  {
   "cell_type": "code",
   "execution_count": 136,
   "id": "83fcee9c",
   "metadata": {
    "ExecuteTime": {
     "end_time": "2021-07-19T07:58:25.115423Z",
     "start_time": "2021-07-19T07:58:25.103427Z"
    }
   },
   "outputs": [
    {
     "data": {
      "text/plain": [
       "12535"
      ]
     },
     "execution_count": 136,
     "metadata": {},
     "output_type": "execute_result"
    }
   ],
   "source": [
    "int('12535')"
   ]
  },
  {
   "cell_type": "code",
   "execution_count": 137,
   "id": "a7311a45",
   "metadata": {
    "ExecuteTime": {
     "end_time": "2021-07-19T07:58:33.056856Z",
     "start_time": "2021-07-19T07:58:33.046855Z"
    }
   },
   "outputs": [
    {
     "ename": "ValueError",
     "evalue": "invalid literal for int() with base 10: ''",
     "output_type": "error",
     "traceback": [
      "\u001b[1;31m---------------------------------------------------------------------------\u001b[0m",
      "\u001b[1;31mValueError\u001b[0m                                Traceback (most recent call last)",
      "\u001b[1;32m<ipython-input-137-e4f84bb32d50>\u001b[0m in \u001b[0;36m<module>\u001b[1;34m\u001b[0m\n\u001b[1;32m----> 1\u001b[1;33m \u001b[0mint\u001b[0m\u001b[1;33m(\u001b[0m\u001b[1;34m''\u001b[0m\u001b[1;33m)\u001b[0m\u001b[1;33m\u001b[0m\u001b[1;33m\u001b[0m\u001b[0m\n\u001b[0m",
      "\u001b[1;31mValueError\u001b[0m: invalid literal for int() with base 10: ''"
     ]
    }
   ],
   "source": [
    "int('')"
   ]
  },
  {
   "cell_type": "code",
   "execution_count": 138,
   "id": "e9ff948e",
   "metadata": {
    "ExecuteTime": {
     "end_time": "2021-07-19T08:01:05.512112Z",
     "start_time": "2021-07-19T08:01:05.502138Z"
    }
   },
   "outputs": [
    {
     "data": {
      "text/plain": [
       "1"
      ]
     },
     "execution_count": 138,
     "metadata": {},
     "output_type": "execute_result"
    }
   ],
   "source": [
    "int(True)"
   ]
  },
  {
   "cell_type": "code",
   "execution_count": 139,
   "id": "286e37eb",
   "metadata": {
    "ExecuteTime": {
     "end_time": "2021-07-19T08:01:44.664984Z",
     "start_time": "2021-07-19T08:01:44.654990Z"
    }
   },
   "outputs": [
    {
     "data": {
      "text/plain": [
       "1.0"
      ]
     },
     "execution_count": 139,
     "metadata": {},
     "output_type": "execute_result"
    }
   ],
   "source": [
    "float(True)"
   ]
  },
  {
   "cell_type": "code",
   "execution_count": 141,
   "id": "ba2dcec2",
   "metadata": {
    "ExecuteTime": {
     "end_time": "2021-07-19T08:02:01.546648Z",
     "start_time": "2021-07-19T08:02:01.527671Z"
    }
   },
   "outputs": [
    {
     "data": {
      "text/plain": [
       "'12300.0'"
      ]
     },
     "execution_count": 141,
     "metadata": {},
     "output_type": "execute_result"
    }
   ],
   "source": [
    "str(1.23e4) # 1.23* 10의 4승"
   ]
  },
  {
   "cell_type": "code",
   "execution_count": null,
   "id": "5b58a4d7",
   "metadata": {},
   "outputs": [],
   "source": [
    "파이썬 기본 자료형\n",
    "<ol>\n",
    "    <li>숫자 - int, float, complex </li>\n",
    "    <li>문자 - str</li>\n",
    "    <li>논리 - bool</li>\n",
    "    "
   ]
  },
  {
   "cell_type": "code",
   "execution_count": null,
   "id": "3b3744cb",
   "metadata": {},
   "outputs": [],
   "source": []
  },
  {
   "cell_type": "code",
   "execution_count": null,
   "id": "4811b1c8",
   "metadata": {},
   "outputs": [],
   "source": []
  },
  {
   "cell_type": "code",
   "execution_count": null,
   "id": "aea91194",
   "metadata": {},
   "outputs": [],
   "source": []
  },
  {
   "cell_type": "code",
   "execution_count": null,
   "id": "382a45d2",
   "metadata": {},
   "outputs": [],
   "source": []
  }
 ],
 "metadata": {
  "kernelspec": {
   "display_name": "Python 3",
   "language": "python",
   "name": "python3"
  },
  "language_info": {
   "codemirror_mode": {
    "name": "ipython",
    "version": 3
   },
   "file_extension": ".py",
   "mimetype": "text/x-python",
   "name": "python",
   "nbconvert_exporter": "python",
   "pygments_lexer": "ipython3",
   "version": "3.8.8"
  },
  "toc": {
   "base_numbering": 1,
   "nav_menu": {},
   "number_sections": false,
   "sideBar": true,
   "skip_h1_title": false,
   "title_cell": "Table of Contents",
   "title_sidebar": "Contents",
   "toc_cell": false,
   "toc_position": {
    "height": "calc(100% - 180px)",
    "left": "10px",
    "top": "150px",
    "width": "384px"
   },
   "toc_section_display": true,
   "toc_window_display": true
  },
  "varInspector": {
   "cols": {
    "lenName": 16,
    "lenType": 16,
    "lenVar": 40
   },
   "kernels_config": {
    "python": {
     "delete_cmd_postfix": "",
     "delete_cmd_prefix": "del ",
     "library": "var_list.py",
     "varRefreshCmd": "print(var_dic_list())"
    },
    "r": {
     "delete_cmd_postfix": ") ",
     "delete_cmd_prefix": "rm(",
     "library": "var_list.r",
     "varRefreshCmd": "cat(var_dic_list()) "
    }
   },
   "position": {
    "height": "422px",
    "left": "1550px",
    "right": "20px",
    "top": "120px",
    "width": "350px"
   },
   "types_to_exclude": [
    "module",
    "function",
    "builtin_function_or_method",
    "instance",
    "_Feature"
   ],
   "window_display": true
  }
 },
 "nbformat": 4,
 "nbformat_minor": 5
}
