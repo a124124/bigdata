{
 "cells": [
  {
   "cell_type": "markdown",
   "id": "0be2db6f",
   "metadata": {},
   "source": [
    "<b><font color='red' size='6'> ch01. 파이썬 개요 및 환경설정</b>"
   ]
  },
  {
   "cell_type": "markdown",
   "id": "9866707d",
   "metadata": {
    "ExecuteTime": {
     "end_time": "2021-07-19T02:39:40.655545Z",
     "start_time": "2021-07-19T02:39:40.648585Z"
    },
    "code_folding": []
   },
   "source": [
    "# 주피터 노트북 사용법 (큰 제목)\n",
    "* shift + enter : 선택된 셀이 실행되고 커서가 다음 셀로 이동\n",
    "* enter 키를 누르면 편집가능\n",
    "* alt + enter : 선택된 셀이 실행되고 다음 셀이 생성된 후 다음 셀로 이동\n",
    "* ctrl + enter : 선택된 셀이 실행됨"
   ]
  },
  {
   "cell_type": "code",
   "execution_count": null,
   "id": "4a558486",
   "metadata": {
    "ExecuteTime": {
     "end_time": "2021-07-19T02:47:51.826275Z",
     "start_time": "2021-07-19T02:47:51.810339Z"
    }
   },
   "outputs": [],
   "source": [
    "* # 셀 하나하나에 파이썬 실행 소스 입력 -> 실행"
   ]
  },
  {
   "cell_type": "code",
   "execution_count": null,
   "id": "d878cb65",
   "metadata": {
    "ExecuteTime": {
     "end_time": "2021-07-19T02:52:16.500309Z",
     "start_time": "2021-07-19T02:52:16.489330Z"
    }
   },
   "outputs": [],
   "source": [
    "a = 1\n",
    "b = \"2\"\n",
    "a + int(b)\n"
   ]
  },
  {
   "cell_type": "code",
   "execution_count": 1,
   "id": "1924609f",
   "metadata": {
    "ExecuteTime": {
     "end_time": "2021-07-19T02:57:04.150922Z",
     "start_time": "2021-07-19T02:57:04.134964Z"
    }
   },
   "outputs": [
    {
     "name": "stdout",
     "output_type": "stream",
     "text": [
      "0\n",
      "1\n",
      "2\n",
      "3\n",
      "4\n",
      "5\n",
      "6\n",
      "7\n",
      "8\n",
      "9\n"
     ]
    }
   ],
   "source": [
    "for i in range(10):\n",
    "    print(i)\n",
    "#stop 기능\n",
    "#kernel > 다양한 restart 기능"
   ]
  },
  {
   "cell_type": "code",
   "execution_count": null,
   "id": "8d04d711",
   "metadata": {
    "ExecuteTime": {
     "end_time": "2021-07-19T02:56:09.435258Z",
     "start_time": "2021-07-19T02:56:09.420298Z"
    }
   },
   "outputs": [],
   "source": [
    "print = 10\n",
    "print"
   ]
  },
  {
   "cell_type": "markdown",
   "id": "55975d30",
   "metadata": {},
   "source": [
    "## 서브 제목"
   ]
  },
  {
   "cell_type": "code",
   "execution_count": 2,
   "id": "26203b7b",
   "metadata": {
    "ExecuteTime": {
     "end_time": "2021-07-19T02:57:52.639763Z",
     "start_time": "2021-07-19T02:57:52.633777Z"
    }
   },
   "outputs": [
    {
     "name": "stdout",
     "output_type": "stream",
     "text": [
      "hello, world\n"
     ]
    }
   ],
   "source": [
    "print('hello, world')\n",
    "# 실수로 할당된 print 변수 삭제 del print\n",
    "# kernel 재시작"
   ]
  },
  {
   "cell_type": "markdown",
   "id": "14135e4a",
   "metadata": {},
   "source": [
    "# ESC키를 누르고(핫키)\n",
    "+ dd : 셀 삭제\n",
    "+ a : 윗셀 추가\n",
    "+ b : 아랫셀 추가\n",
    "+ m : 마크다운 셀로 변환\n",
    "+ y : 코드 셀(소스셀)로 변경\n",
    "+ h : 핫키 안내"
   ]
  },
  {
   "cell_type": "code",
   "execution_count": null,
   "id": "5f752f49",
   "metadata": {},
   "outputs": [],
   "source": []
  },
  {
   "cell_type": "code",
   "execution_count": null,
   "id": "e4d08084",
   "metadata": {},
   "outputs": [],
   "source": []
  },
  {
   "cell_type": "code",
   "execution_count": null,
   "id": "2c643bff",
   "metadata": {},
   "outputs": [],
   "source": []
  },
  {
   "cell_type": "code",
   "execution_count": null,
   "id": "f77ce9d5",
   "metadata": {},
   "outputs": [],
   "source": []
  }
 ],
 "metadata": {
  "kernelspec": {
   "display_name": "Python 3",
   "language": "python",
   "name": "python3"
  },
  "language_info": {
   "codemirror_mode": {
    "name": "ipython",
    "version": 3
   },
   "file_extension": ".py",
   "mimetype": "text/x-python",
   "name": "python",
   "nbconvert_exporter": "python",
   "pygments_lexer": "ipython3",
   "version": "3.8.8"
  },
  "toc": {
   "base_numbering": 1,
   "nav_menu": {},
   "number_sections": true,
   "sideBar": true,
   "skip_h1_title": false,
   "title_cell": "Table of Contents",
   "title_sidebar": "Contents",
   "toc_cell": false,
   "toc_position": {},
   "toc_section_display": true,
   "toc_window_display": true
  },
  "varInspector": {
   "cols": {
    "lenName": 16,
    "lenType": 16,
    "lenVar": 40
   },
   "kernels_config": {
    "python": {
     "delete_cmd_postfix": "",
     "delete_cmd_prefix": "del ",
     "library": "var_list.py",
     "varRefreshCmd": "print(var_dic_list())"
    },
    "r": {
     "delete_cmd_postfix": ") ",
     "delete_cmd_prefix": "rm(",
     "library": "var_list.r",
     "varRefreshCmd": "cat(var_dic_list()) "
    }
   },
   "types_to_exclude": [
    "module",
    "function",
    "builtin_function_or_method",
    "instance",
    "_Feature"
   ],
   "window_display": false
  }
 },
 "nbformat": 4,
 "nbformat_minor": 5
}
